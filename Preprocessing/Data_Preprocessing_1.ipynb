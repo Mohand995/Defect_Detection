{
 "cells": [
  {
   "cell_type": "code",
   "execution_count": 50,
   "metadata": {
    "id": "ANTs0L_IG2xY"
   },
   "outputs": [],
   "source": [
    "import json\n",
    "import numpy as np\n",
    "import pandas as pd\n",
    "import os \n",
    "from os import walk\n",
    "import shutil\n",
    "import splitfolders"
   ]
  },
  {
   "cell_type": "code",
   "execution_count": 31,
   "metadata": {
    "colab": {
     "base_uri": "https://localhost:8080/"
    },
    "id": "EW_Ywc7ZJtT6",
    "outputId": "b293b2bd-5a21-4a1a-ce81-868abb2c4aa7"
   },
   "outputs": [
    {
     "name": "stdout",
     "output_type": "stream",
     "text": [
      "Looking in indexes: https://pypi.org/simple, https://us-python.pkg.dev/colab-wheels/public/simple/\n",
      "Collecting split_folders\n",
      "  Downloading split_folders-0.5.1-py3-none-any.whl (8.4 kB)\n",
      "Installing collected packages: split-folders\n",
      "Successfully installed split-folders-0.5.1\n"
     ]
    }
   ],
   "source": [
    "!pip install split_folders"
   ]
  },
  {
   "cell_type": "markdown",
   "metadata": {
    "id": "StyayXMLGzgo"
   },
   "source": [
    "# **From Kaggle**"
   ]
  },
  {
   "cell_type": "code",
   "execution_count": 2,
   "metadata": {
    "colab": {
     "base_uri": "https://localhost:8080/"
    },
    "id": "7lKOjs_-ykz2",
    "outputId": "4a75fb65-2f2f-4e07-c7d8-a5e46d36f890"
   },
   "outputs": [
    {
     "name": "stdout",
     "output_type": "stream",
     "text": [
      "Downloading tig-aluminium-5083.zip to /content\n",
      "100% 11.2G/11.2G [01:28<00:00, 176MB/s]\n",
      "100% 11.2G/11.2G [01:28<00:00, 136MB/s]\n"
     ]
    }
   ],
   "source": [
    "from getpass import getpass\n",
    "import os\n",
    "\n",
    "user='mohandabdelhalim'\n",
    "key=\"8486e9c87e92ff7f979667dd05275afa\"\n",
    "\n",
    "\n",
    "if '.kaggle' not in os.listdir('/root'):\n",
    "       !mkdir ~/.kaggle\n",
    "!touch /root/.kaggle/kaggle.json\n",
    "!chmod 666 /root/.kaggle/kaggle.json\n",
    "with open('/root/.kaggle/kaggle.json', 'w') as f:\n",
    "    f.write('{\"username\":\"%s\",\"key\":\"%s\"}' % (user, key))\n",
    "!chmod 600 /root/.kaggle/kaggle.json\n",
    "\n",
    "\n",
    "!kaggle datasets download -d danielbacioiu/tig-aluminium-5083\n",
    "!chmod 777 *"
   ]
  },
  {
   "cell_type": "code",
   "execution_count": 3,
   "metadata": {
    "id": "5qImhGZQzWq9"
   },
   "outputs": [],
   "source": [
    "%%capture\n",
    "!unzip /content/tig-aluminium-5083.zip"
   ]
  },
  {
   "cell_type": "markdown",
   "metadata": {
    "id": "ll_6VGXgY5T4"
   },
   "source": [
    "# **Labels Encoding**"
   ]
  },
  {
   "cell_type": "code",
   "execution_count": 4,
   "metadata": {
    "id": "O5ZjhiQIC4yt"
   },
   "outputs": [],
   "source": [
    "class_names=['0_Good weld','1_Defect']\n",
    "for i in class_names:\n",
    "      os.makedirs(os.path.join('all_labeled',i))"
   ]
  },
  {
   "cell_type": "markdown",
   "metadata": {
    "id": "XjVzyT_7BXml"
   },
   "source": [
    "# **# Load Train imgs & labels**"
   ]
  },
  {
   "cell_type": "code",
   "execution_count": 5,
   "metadata": {
    "id": "yFuenVlAAT16"
   },
   "outputs": [],
   "source": [
    "import json\n",
    "f=open(\"/content/al5083/train/train.json\",)\n",
    "train_labels=json.load(f)"
   ]
  },
  {
   "cell_type": "code",
   "execution_count": 6,
   "metadata": {
    "colab": {
     "base_uri": "https://localhost:8080/"
    },
    "id": "Lj5i94v8Bpu8",
    "outputId": "5540da29-26c1-4111-d02e-5253ac79b9ef"
   },
   "outputs": [
    {
     "data": {
      "text/plain": [
       "2"
      ]
     },
     "execution_count": 6,
     "metadata": {},
     "output_type": "execute_result"
    }
   ],
   "source": [
    "train_labels['170815-133921-Al 2mm/frame_00080.png']"
   ]
  },
  {
   "cell_type": "markdown",
   "metadata": {
    "id": "QfUtGmoYF9Kl"
   },
   "source": [
    "#**Generating dict of subfolders and data contained as documented**"
   ]
  },
  {
   "cell_type": "code",
   "execution_count": 7,
   "metadata": {
    "id": "T68dhyvshnNM"
   },
   "outputs": [],
   "source": [
    "def Data_collected_dir(typ_data=train_labels):\n",
    "    keys=list(typ_data.keys())\n",
    "    vals=list(typ_data.values())\n",
    "    k_keys=[]\n",
    "    for k in keys :\n",
    "      a_string=k.replace('/',' ')\n",
    "      x=a_string.split()\n",
    "      string=x[0]+' '+x[1]\n",
    "      k_keys.append(string)\n",
    "    true_labels_dict = {k_keys[i]: vals[i] for i in range(len(k_keys))} \n",
    "\n",
    "    return true_labels_dict\n"
   ]
  },
  {
   "cell_type": "code",
   "execution_count": 8,
   "metadata": {
    "id": "dKFS3LvyDXPf"
   },
   "outputs": [],
   "source": [
    "true_labels_dict=Data_collected_dir()"
   ]
  },
  {
   "cell_type": "code",
   "execution_count": 9,
   "metadata": {
    "id": "h4uCrSuEFmPN"
   },
   "outputs": [],
   "source": [
    "def create_data_csv(location_folders,typ_data_dict=true_labels_dict):\n",
    "  folders=[]\n",
    "  for (_,dirnames,_) in walk(location_folders):\n",
    "    folders.extend(dirnames)\n",
    "  num_files=[]\n",
    "  for folder in folders:\n",
    "      location_files=location_folders+folder+'/'\n",
    "      files=[]\n",
    "      for (_,_,file_name) in walk(location_files):\n",
    "        files.extend(file_name)\n",
    "        break\n",
    "      num_files.append(len(files))\n",
    "  labels=[typ_data_dict[folder]  for folder in folders]\n",
    "  Data=pd.DataFrame({'folder':folders,'num_files':np.array(num_files),'label':labels})\n",
    "  return Data.sort_values(by='label')"
   ]
  },
  {
   "cell_type": "code",
   "execution_count": 10,
   "metadata": {
    "id": "pQVBwqpuGICe"
   },
   "outputs": [],
   "source": [
    "train_data_csv=create_data_csv('/content/al5083/al5083/train/')"
   ]
  },
  {
   "cell_type": "code",
   "execution_count": 11,
   "metadata": {
    "id": "nd7W-5GSGYkQ"
   },
   "outputs": [],
   "source": [
    "train_data_csv['label'] = train_data_csv['label'] .replace([1,2,3,4,5],1) "
   ]
  },
  {
   "cell_type": "code",
   "execution_count": 12,
   "metadata": {
    "colab": {
     "base_uri": "https://localhost:8080/",
     "height": 1000
    },
    "id": "rQX1e7OYHyIj",
    "outputId": "cb0e4ae6-b27b-423d-b737-2d1701673593"
   },
   "outputs": [
    {
     "data": {
      "text/html": [
       "\n",
       "  <div id=\"df-c40aa0a4-148f-420a-acb3-854583b134a7\">\n",
       "    <div class=\"colab-df-container\">\n",
       "      <div>\n",
       "<style scoped>\n",
       "    .dataframe tbody tr th:only-of-type {\n",
       "        vertical-align: middle;\n",
       "    }\n",
       "\n",
       "    .dataframe tbody tr th {\n",
       "        vertical-align: top;\n",
       "    }\n",
       "\n",
       "    .dataframe thead th {\n",
       "        text-align: right;\n",
       "    }\n",
       "</style>\n",
       "<table border=\"1\" class=\"dataframe\">\n",
       "  <thead>\n",
       "    <tr style=\"text-align: right;\">\n",
       "      <th></th>\n",
       "      <th>folder</th>\n",
       "      <th>num_files</th>\n",
       "      <th>label</th>\n",
       "    </tr>\n",
       "  </thead>\n",
       "  <tbody>\n",
       "    <tr>\n",
       "      <th>22</th>\n",
       "      <td>170906-120346-Al 2mm</td>\n",
       "      <td>1165</td>\n",
       "      <td>0</td>\n",
       "    </tr>\n",
       "    <tr>\n",
       "      <th>40</th>\n",
       "      <td>170913-151508-Al 2mm-part1</td>\n",
       "      <td>371</td>\n",
       "      <td>0</td>\n",
       "    </tr>\n",
       "    <tr>\n",
       "      <th>35</th>\n",
       "      <td>170913-142501-Al 2mm</td>\n",
       "      <td>770</td>\n",
       "      <td>0</td>\n",
       "    </tr>\n",
       "    <tr>\n",
       "      <th>29</th>\n",
       "      <td>170905-115602-Al 2mm</td>\n",
       "      <td>914</td>\n",
       "      <td>0</td>\n",
       "    </tr>\n",
       "    <tr>\n",
       "      <th>25</th>\n",
       "      <td>170913-143933-Al 2mm-part1</td>\n",
       "      <td>379</td>\n",
       "      <td>0</td>\n",
       "    </tr>\n",
       "    <tr>\n",
       "      <th>24</th>\n",
       "      <td>170906-114912-Al 2mm</td>\n",
       "      <td>979</td>\n",
       "      <td>0</td>\n",
       "    </tr>\n",
       "    <tr>\n",
       "      <th>19</th>\n",
       "      <td>170913-152931-Al 2mm-part1</td>\n",
       "      <td>354</td>\n",
       "      <td>0</td>\n",
       "    </tr>\n",
       "    <tr>\n",
       "      <th>16</th>\n",
       "      <td>170906-141809-Al 2mm-part1</td>\n",
       "      <td>1037</td>\n",
       "      <td>0</td>\n",
       "    </tr>\n",
       "    <tr>\n",
       "      <th>13</th>\n",
       "      <td>170913-155806-Al 2mm-part1</td>\n",
       "      <td>932</td>\n",
       "      <td>0</td>\n",
       "    </tr>\n",
       "    <tr>\n",
       "      <th>12</th>\n",
       "      <td>170904-141730-Al 2mm-part1</td>\n",
       "      <td>394</td>\n",
       "      <td>0</td>\n",
       "    </tr>\n",
       "    <tr>\n",
       "      <th>45</th>\n",
       "      <td>170904-145718-Al 2mm-part1</td>\n",
       "      <td>619</td>\n",
       "      <td>0</td>\n",
       "    </tr>\n",
       "    <tr>\n",
       "      <th>7</th>\n",
       "      <td>170905-114307-Al 2mm</td>\n",
       "      <td>844</td>\n",
       "      <td>0</td>\n",
       "    </tr>\n",
       "    <tr>\n",
       "      <th>2</th>\n",
       "      <td>170906-144958-Al 2mm</td>\n",
       "      <td>1728</td>\n",
       "      <td>1</td>\n",
       "    </tr>\n",
       "    <tr>\n",
       "      <th>33</th>\n",
       "      <td>170906-113317-Al 2mm-part3</td>\n",
       "      <td>55</td>\n",
       "      <td>1</td>\n",
       "    </tr>\n",
       "    <tr>\n",
       "      <th>0</th>\n",
       "      <td>170906-153326-Al 2mm-part2</td>\n",
       "      <td>47</td>\n",
       "      <td>1</td>\n",
       "    </tr>\n",
       "    <tr>\n",
       "      <th>36</th>\n",
       "      <td>170815-134756-Al 2mm</td>\n",
       "      <td>786</td>\n",
       "      <td>1</td>\n",
       "    </tr>\n",
       "    <tr>\n",
       "      <th>3</th>\n",
       "      <td>170913-143933-Al 2mm-part2</td>\n",
       "      <td>178</td>\n",
       "      <td>1</td>\n",
       "    </tr>\n",
       "    <tr>\n",
       "      <th>10</th>\n",
       "      <td>170904-141232-Al 2mm-part2</td>\n",
       "      <td>69</td>\n",
       "      <td>1</td>\n",
       "    </tr>\n",
       "    <tr>\n",
       "      <th>27</th>\n",
       "      <td>170815-133921-Al 2mm</td>\n",
       "      <td>1080</td>\n",
       "      <td>1</td>\n",
       "    </tr>\n",
       "    <tr>\n",
       "      <th>38</th>\n",
       "      <td>170904-112347-Al 2mm</td>\n",
       "      <td>2460</td>\n",
       "      <td>1</td>\n",
       "    </tr>\n",
       "    <tr>\n",
       "      <th>44</th>\n",
       "      <td>170913-152931-Al 2mm-part2</td>\n",
       "      <td>189</td>\n",
       "      <td>1</td>\n",
       "    </tr>\n",
       "    <tr>\n",
       "      <th>39</th>\n",
       "      <td>170913-151508-Al 2mm-part2</td>\n",
       "      <td>83</td>\n",
       "      <td>1</td>\n",
       "    </tr>\n",
       "    <tr>\n",
       "      <th>9</th>\n",
       "      <td>170904-141730-Al 2mm-part2</td>\n",
       "      <td>24</td>\n",
       "      <td>1</td>\n",
       "    </tr>\n",
       "    <tr>\n",
       "      <th>8</th>\n",
       "      <td>170906-141809-Al 2mm-part2</td>\n",
       "      <td>396</td>\n",
       "      <td>1</td>\n",
       "    </tr>\n",
       "    <tr>\n",
       "      <th>17</th>\n",
       "      <td>170904-150144-Al 2mm-part1</td>\n",
       "      <td>115</td>\n",
       "      <td>1</td>\n",
       "    </tr>\n",
       "    <tr>\n",
       "      <th>43</th>\n",
       "      <td>170904-151845-Al 2mm-part2</td>\n",
       "      <td>28</td>\n",
       "      <td>1</td>\n",
       "    </tr>\n",
       "    <tr>\n",
       "      <th>14</th>\n",
       "      <td>170904-115959-Al 2mm</td>\n",
       "      <td>870</td>\n",
       "      <td>1</td>\n",
       "    </tr>\n",
       "    <tr>\n",
       "      <th>23</th>\n",
       "      <td>170906-150801-Al 2mm</td>\n",
       "      <td>1610</td>\n",
       "      <td>1</td>\n",
       "    </tr>\n",
       "    <tr>\n",
       "      <th>37</th>\n",
       "      <td>170906-151353-Al 2mm</td>\n",
       "      <td>1262</td>\n",
       "      <td>1</td>\n",
       "    </tr>\n",
       "    <tr>\n",
       "      <th>34</th>\n",
       "      <td>170906-150010-Al 2mm</td>\n",
       "      <td>1156</td>\n",
       "      <td>1</td>\n",
       "    </tr>\n",
       "    <tr>\n",
       "      <th>42</th>\n",
       "      <td>170904-141730-Al 2mm-part3</td>\n",
       "      <td>85</td>\n",
       "      <td>1</td>\n",
       "    </tr>\n",
       "    <tr>\n",
       "      <th>1</th>\n",
       "      <td>170913-155806-Al 2mm-part2</td>\n",
       "      <td>166</td>\n",
       "      <td>1</td>\n",
       "    </tr>\n",
       "    <tr>\n",
       "      <th>30</th>\n",
       "      <td>170904-113012-Al 2mm-part2</td>\n",
       "      <td>403</td>\n",
       "      <td>1</td>\n",
       "    </tr>\n",
       "    <tr>\n",
       "      <th>21</th>\n",
       "      <td>170904-154202-Al 2mm-part2</td>\n",
       "      <td>451</td>\n",
       "      <td>1</td>\n",
       "    </tr>\n",
       "    <tr>\n",
       "      <th>18</th>\n",
       "      <td>170904-155523-Al 2mm</td>\n",
       "      <td>455</td>\n",
       "      <td>1</td>\n",
       "    </tr>\n",
       "    <tr>\n",
       "      <th>26</th>\n",
       "      <td>170904-141232-Al 2mm-part3</td>\n",
       "      <td>114</td>\n",
       "      <td>1</td>\n",
       "    </tr>\n",
       "    <tr>\n",
       "      <th>6</th>\n",
       "      <td>170905-110711-Al 2mm-part2</td>\n",
       "      <td>113</td>\n",
       "      <td>1</td>\n",
       "    </tr>\n",
       "    <tr>\n",
       "      <th>5</th>\n",
       "      <td>170904-145718-Al 2mm-part2</td>\n",
       "      <td>78</td>\n",
       "      <td>1</td>\n",
       "    </tr>\n",
       "    <tr>\n",
       "      <th>41</th>\n",
       "      <td>170904-152301-Al 2mm-part1</td>\n",
       "      <td>239</td>\n",
       "      <td>1</td>\n",
       "    </tr>\n",
       "    <tr>\n",
       "      <th>4</th>\n",
       "      <td>170913-140725-Al 2mm</td>\n",
       "      <td>849</td>\n",
       "      <td>1</td>\n",
       "    </tr>\n",
       "    <tr>\n",
       "      <th>11</th>\n",
       "      <td>170905-110711-Al 2mm-part1</td>\n",
       "      <td>211</td>\n",
       "      <td>1</td>\n",
       "    </tr>\n",
       "    <tr>\n",
       "      <th>31</th>\n",
       "      <td>170904-113012-Al 2mm-part1</td>\n",
       "      <td>230</td>\n",
       "      <td>1</td>\n",
       "    </tr>\n",
       "    <tr>\n",
       "      <th>20</th>\n",
       "      <td>170906-153326-Al 2mm-part1</td>\n",
       "      <td>474</td>\n",
       "      <td>1</td>\n",
       "    </tr>\n",
       "    <tr>\n",
       "      <th>15</th>\n",
       "      <td>170904-151845-Al 2mm-part1</td>\n",
       "      <td>470</td>\n",
       "      <td>1</td>\n",
       "    </tr>\n",
       "    <tr>\n",
       "      <th>32</th>\n",
       "      <td>170904-141232-Al 2mm-part1</td>\n",
       "      <td>869</td>\n",
       "      <td>1</td>\n",
       "    </tr>\n",
       "    <tr>\n",
       "      <th>28</th>\n",
       "      <td>170904-115503-Al 2mm</td>\n",
       "      <td>565</td>\n",
       "      <td>1</td>\n",
       "    </tr>\n",
       "  </tbody>\n",
       "</table>\n",
       "</div>\n",
       "      <button class=\"colab-df-convert\" onclick=\"convertToInteractive('df-c40aa0a4-148f-420a-acb3-854583b134a7')\"\n",
       "              title=\"Convert this dataframe to an interactive table.\"\n",
       "              style=\"display:none;\">\n",
       "        \n",
       "  <svg xmlns=\"http://www.w3.org/2000/svg\" height=\"24px\"viewBox=\"0 0 24 24\"\n",
       "       width=\"24px\">\n",
       "    <path d=\"M0 0h24v24H0V0z\" fill=\"none\"/>\n",
       "    <path d=\"M18.56 5.44l.94 2.06.94-2.06 2.06-.94-2.06-.94-.94-2.06-.94 2.06-2.06.94zm-11 1L8.5 8.5l.94-2.06 2.06-.94-2.06-.94L8.5 2.5l-.94 2.06-2.06.94zm10 10l.94 2.06.94-2.06 2.06-.94-2.06-.94-.94-2.06-.94 2.06-2.06.94z\"/><path d=\"M17.41 7.96l-1.37-1.37c-.4-.4-.92-.59-1.43-.59-.52 0-1.04.2-1.43.59L10.3 9.45l-7.72 7.72c-.78.78-.78 2.05 0 2.83L4 21.41c.39.39.9.59 1.41.59.51 0 1.02-.2 1.41-.59l7.78-7.78 2.81-2.81c.8-.78.8-2.07 0-2.86zM5.41 20L4 18.59l7.72-7.72 1.47 1.35L5.41 20z\"/>\n",
       "  </svg>\n",
       "      </button>\n",
       "      \n",
       "  <style>\n",
       "    .colab-df-container {\n",
       "      display:flex;\n",
       "      flex-wrap:wrap;\n",
       "      gap: 12px;\n",
       "    }\n",
       "\n",
       "    .colab-df-convert {\n",
       "      background-color: #E8F0FE;\n",
       "      border: none;\n",
       "      border-radius: 50%;\n",
       "      cursor: pointer;\n",
       "      display: none;\n",
       "      fill: #1967D2;\n",
       "      height: 32px;\n",
       "      padding: 0 0 0 0;\n",
       "      width: 32px;\n",
       "    }\n",
       "\n",
       "    .colab-df-convert:hover {\n",
       "      background-color: #E2EBFA;\n",
       "      box-shadow: 0px 1px 2px rgba(60, 64, 67, 0.3), 0px 1px 3px 1px rgba(60, 64, 67, 0.15);\n",
       "      fill: #174EA6;\n",
       "    }\n",
       "\n",
       "    [theme=dark] .colab-df-convert {\n",
       "      background-color: #3B4455;\n",
       "      fill: #D2E3FC;\n",
       "    }\n",
       "\n",
       "    [theme=dark] .colab-df-convert:hover {\n",
       "      background-color: #434B5C;\n",
       "      box-shadow: 0px 1px 3px 1px rgba(0, 0, 0, 0.15);\n",
       "      filter: drop-shadow(0px 1px 2px rgba(0, 0, 0, 0.3));\n",
       "      fill: #FFFFFF;\n",
       "    }\n",
       "  </style>\n",
       "\n",
       "      <script>\n",
       "        const buttonEl =\n",
       "          document.querySelector('#df-c40aa0a4-148f-420a-acb3-854583b134a7 button.colab-df-convert');\n",
       "        buttonEl.style.display =\n",
       "          google.colab.kernel.accessAllowed ? 'block' : 'none';\n",
       "\n",
       "        async function convertToInteractive(key) {\n",
       "          const element = document.querySelector('#df-c40aa0a4-148f-420a-acb3-854583b134a7');\n",
       "          const dataTable =\n",
       "            await google.colab.kernel.invokeFunction('convertToInteractive',\n",
       "                                                     [key], {});\n",
       "          if (!dataTable) return;\n",
       "\n",
       "          const docLinkHtml = 'Like what you see? Visit the ' +\n",
       "            '<a target=\"_blank\" href=https://colab.research.google.com/notebooks/data_table.ipynb>data table notebook</a>'\n",
       "            + ' to learn more about interactive tables.';\n",
       "          element.innerHTML = '';\n",
       "          dataTable['output_type'] = 'display_data';\n",
       "          await google.colab.output.renderOutput(dataTable, element);\n",
       "          const docLink = document.createElement('div');\n",
       "          docLink.innerHTML = docLinkHtml;\n",
       "          element.appendChild(docLink);\n",
       "        }\n",
       "      </script>\n",
       "    </div>\n",
       "  </div>\n",
       "  "
      ],
      "text/plain": [
       "                        folder  num_files  label\n",
       "22        170906-120346-Al 2mm       1165      0\n",
       "40  170913-151508-Al 2mm-part1        371      0\n",
       "35        170913-142501-Al 2mm        770      0\n",
       "29        170905-115602-Al 2mm        914      0\n",
       "25  170913-143933-Al 2mm-part1        379      0\n",
       "24        170906-114912-Al 2mm        979      0\n",
       "19  170913-152931-Al 2mm-part1        354      0\n",
       "16  170906-141809-Al 2mm-part1       1037      0\n",
       "13  170913-155806-Al 2mm-part1        932      0\n",
       "12  170904-141730-Al 2mm-part1        394      0\n",
       "45  170904-145718-Al 2mm-part1        619      0\n",
       "7         170905-114307-Al 2mm        844      0\n",
       "2         170906-144958-Al 2mm       1728      1\n",
       "33  170906-113317-Al 2mm-part3         55      1\n",
       "0   170906-153326-Al 2mm-part2         47      1\n",
       "36        170815-134756-Al 2mm        786      1\n",
       "3   170913-143933-Al 2mm-part2        178      1\n",
       "10  170904-141232-Al 2mm-part2         69      1\n",
       "27        170815-133921-Al 2mm       1080      1\n",
       "38        170904-112347-Al 2mm       2460      1\n",
       "44  170913-152931-Al 2mm-part2        189      1\n",
       "39  170913-151508-Al 2mm-part2         83      1\n",
       "9   170904-141730-Al 2mm-part2         24      1\n",
       "8   170906-141809-Al 2mm-part2        396      1\n",
       "17  170904-150144-Al 2mm-part1        115      1\n",
       "43  170904-151845-Al 2mm-part2         28      1\n",
       "14        170904-115959-Al 2mm        870      1\n",
       "23        170906-150801-Al 2mm       1610      1\n",
       "37        170906-151353-Al 2mm       1262      1\n",
       "34        170906-150010-Al 2mm       1156      1\n",
       "42  170904-141730-Al 2mm-part3         85      1\n",
       "1   170913-155806-Al 2mm-part2        166      1\n",
       "30  170904-113012-Al 2mm-part2        403      1\n",
       "21  170904-154202-Al 2mm-part2        451      1\n",
       "18        170904-155523-Al 2mm        455      1\n",
       "26  170904-141232-Al 2mm-part3        114      1\n",
       "6   170905-110711-Al 2mm-part2        113      1\n",
       "5   170904-145718-Al 2mm-part2         78      1\n",
       "41  170904-152301-Al 2mm-part1        239      1\n",
       "4         170913-140725-Al 2mm        849      1\n",
       "11  170905-110711-Al 2mm-part1        211      1\n",
       "31  170904-113012-Al 2mm-part1        230      1\n",
       "20  170906-153326-Al 2mm-part1        474      1\n",
       "15  170904-151845-Al 2mm-part1        470      1\n",
       "32  170904-141232-Al 2mm-part1        869      1\n",
       "28        170904-115503-Al 2mm        565      1"
      ]
     },
     "execution_count": 12,
     "metadata": {},
     "output_type": "execute_result"
    }
   ],
   "source": [
    "train_data_csv"
   ]
  },
  {
   "cell_type": "code",
   "execution_count": 52,
   "metadata": {
    "id": "G9W7pAPIWGOn"
   },
   "outputs": [],
   "source": [
    "train_data_csv.to_csv(\"train_data_csv.csv\")"
   ]
  },
  {
   "cell_type": "markdown",
   "metadata": {
    "id": "LvQTh-b5Wn-o"
   },
   "source": [
    "**List_data_to_folders_per_label**"
   ]
  },
  {
   "cell_type": "code",
   "execution_count": 13,
   "metadata": {
    "id": "B0DDKAtVIcaR"
   },
   "outputs": [],
   "source": [
    "def copy_to_folder_2classes(num, raw_data_folder ,data_labeled  ,new_folder_path ):\n",
    "  #test_files='/content/al5083/test'\n",
    "  for folder_n in list(data_labeled[data_labeled['label']== num]['folder']):\n",
    "    #print(num,folder_n)\n",
    "\n",
    "    for file in os.listdir(raw_data_folder):    \n",
    "      location_files = os.path.join(raw_data_folder,folder_n)\n",
    "\n",
    "      for (_, _, filenames) in walk(location_files):\n",
    "          # print(filenames)  # lists of string contain images names 'frame_00813.png'\n",
    "\n",
    "        for image in filenames:\n",
    "          get_image = os.path.join(location_files,image)\n",
    "          # print(get_image)  #/content/al5083/test/170906-143512-Al 2mm-part1/frame_01214.png\n",
    "\n",
    "          new_image_name = folder_n + image\n",
    "          shutil.move(get_image,os.path.join(location_files,new_image_name))\n",
    "          shutil.move(os.path.join(location_files,new_image_name), new_folder_path + class_names[num])\n"
   ]
  },
  {
   "cell_type": "code",
   "execution_count": 14,
   "metadata": {
    "id": "hSYXgMU-GqvK"
   },
   "outputs": [],
   "source": [
    "location_folders='/content/al5083/train/'\n",
    "for i in range(len(class_names)):\n",
    "   copy_to_folder_2classes(i, location_folders , train_data_csv , '/content/all_labeled/')   "
   ]
  },
  {
   "cell_type": "code",
   "execution_count": 15,
   "metadata": {
    "colab": {
     "base_uri": "https://localhost:8080/"
    },
    "id": "6gPZXbfvTnMT",
    "outputId": "4b3918b5-85fa-47c3-cf9f-a343a26ad3bb"
   },
   "outputs": [
    {
     "data": {
      "text/plain": [
       "8758"
      ]
     },
     "execution_count": 15,
     "metadata": {},
     "output_type": "execute_result"
    }
   ],
   "source": [
    "len(os.listdir('/content/all_labeled/0_Good weld'))"
   ]
  },
  {
   "cell_type": "code",
   "execution_count": 16,
   "metadata": {
    "colab": {
     "base_uri": "https://localhost:8080/"
    },
    "id": "90sktLP8TuKX",
    "outputId": "b69e3997-ca13-4d9c-d2a6-cfe6892b22ee"
   },
   "outputs": [
    {
     "data": {
      "text/plain": [
       "17908"
      ]
     },
     "execution_count": 16,
     "metadata": {},
     "output_type": "execute_result"
    }
   ],
   "source": [
    "len(os.listdir('/content/all_labeled/1_Defect'))"
   ]
  },
  {
   "cell_type": "code",
   "execution_count": 23,
   "metadata": {
    "id": "NbxvOTNjT8_v"
   },
   "outputs": [],
   "source": [
    "test_json = open('/content/al5083/test/test.json') \n",
    "test_labels = json.load(test_json) "
   ]
  },
  {
   "cell_type": "code",
   "execution_count": 24,
   "metadata": {
    "id": "JzBO4wzfUu5f"
   },
   "outputs": [],
   "source": [
    "test_labels_dict=Data_collected_dir(typ_data=test_labels)"
   ]
  },
  {
   "cell_type": "code",
   "execution_count": 25,
   "metadata": {
    "id": "4g504_2rVTku"
   },
   "outputs": [],
   "source": [
    "test_data_csv=create_data_csv('/content/al5083/test/',typ_data_dict=test_labels_dict)"
   ]
  },
  {
   "cell_type": "code",
   "execution_count": 26,
   "metadata": {
    "id": "jwdq2i6fVi4X"
   },
   "outputs": [],
   "source": [
    "test_data_csv['label'] = test_data_csv['label'] .replace([1,2,3,4,5],1) "
   ]
  },
  {
   "cell_type": "code",
   "execution_count": 27,
   "metadata": {
    "colab": {
     "base_uri": "https://localhost:8080/",
     "height": 488
    },
    "id": "85y9Cm5eVrs4",
    "outputId": "aec54848-87d3-466b-f091-93606cc233c6"
   },
   "outputs": [
    {
     "data": {
      "text/html": [
       "\n",
       "  <div id=\"df-f127e91e-8841-4565-b1a3-e91a25fcb236\">\n",
       "    <div class=\"colab-df-container\">\n",
       "      <div>\n",
       "<style scoped>\n",
       "    .dataframe tbody tr th:only-of-type {\n",
       "        vertical-align: middle;\n",
       "    }\n",
       "\n",
       "    .dataframe tbody tr th {\n",
       "        vertical-align: top;\n",
       "    }\n",
       "\n",
       "    .dataframe thead th {\n",
       "        text-align: right;\n",
       "    }\n",
       "</style>\n",
       "<table border=\"1\" class=\"dataframe\">\n",
       "  <thead>\n",
       "    <tr style=\"text-align: right;\">\n",
       "      <th></th>\n",
       "      <th>folder</th>\n",
       "      <th>num_files</th>\n",
       "      <th>label</th>\n",
       "    </tr>\n",
       "  </thead>\n",
       "  <tbody>\n",
       "    <tr>\n",
       "      <th>0</th>\n",
       "      <td>170913-154448-Al 2mm</td>\n",
       "      <td>427</td>\n",
       "      <td>0</td>\n",
       "    </tr>\n",
       "    <tr>\n",
       "      <th>2</th>\n",
       "      <td>170905-112213-Al 2mm</td>\n",
       "      <td>585</td>\n",
       "      <td>0</td>\n",
       "    </tr>\n",
       "    <tr>\n",
       "      <th>12</th>\n",
       "      <td>170906-113317-Al 2mm-part1</td>\n",
       "      <td>526</td>\n",
       "      <td>0</td>\n",
       "    </tr>\n",
       "    <tr>\n",
       "      <th>13</th>\n",
       "      <td>170906-104925-Al 2mm</td>\n",
       "      <td>651</td>\n",
       "      <td>0</td>\n",
       "    </tr>\n",
       "    <tr>\n",
       "      <th>4</th>\n",
       "      <td>170906-143512-Al 2mm-part2</td>\n",
       "      <td>351</td>\n",
       "      <td>1</td>\n",
       "    </tr>\n",
       "    <tr>\n",
       "      <th>1</th>\n",
       "      <td>170904-155610-Al 2mm</td>\n",
       "      <td>235</td>\n",
       "      <td>1</td>\n",
       "    </tr>\n",
       "    <tr>\n",
       "      <th>3</th>\n",
       "      <td>170904-154202-Al 2mm-part1</td>\n",
       "      <td>631</td>\n",
       "      <td>1</td>\n",
       "    </tr>\n",
       "    <tr>\n",
       "      <th>5</th>\n",
       "      <td>170906-143512-Al 2mm-part1</td>\n",
       "      <td>1212</td>\n",
       "      <td>1</td>\n",
       "    </tr>\n",
       "    <tr>\n",
       "      <th>6</th>\n",
       "      <td>170906-155007-Al 2mm-part1</td>\n",
       "      <td>451</td>\n",
       "      <td>1</td>\n",
       "    </tr>\n",
       "    <tr>\n",
       "      <th>10</th>\n",
       "      <td>170906-151724-Al 2mm-part1</td>\n",
       "      <td>402</td>\n",
       "      <td>1</td>\n",
       "    </tr>\n",
       "    <tr>\n",
       "      <th>11</th>\n",
       "      <td>170906-153326-Al 2mm-part3</td>\n",
       "      <td>154</td>\n",
       "      <td>1</td>\n",
       "    </tr>\n",
       "    <tr>\n",
       "      <th>7</th>\n",
       "      <td>170904-150144-Al 2mm-part2</td>\n",
       "      <td>330</td>\n",
       "      <td>1</td>\n",
       "    </tr>\n",
       "    <tr>\n",
       "      <th>8</th>\n",
       "      <td>170906-155007-Al 2mm-part2</td>\n",
       "      <td>399</td>\n",
       "      <td>1</td>\n",
       "    </tr>\n",
       "    <tr>\n",
       "      <th>9</th>\n",
       "      <td>170904-152301-Al 2mm-part2</td>\n",
       "      <td>234</td>\n",
       "      <td>1</td>\n",
       "    </tr>\n",
       "  </tbody>\n",
       "</table>\n",
       "</div>\n",
       "      <button class=\"colab-df-convert\" onclick=\"convertToInteractive('df-f127e91e-8841-4565-b1a3-e91a25fcb236')\"\n",
       "              title=\"Convert this dataframe to an interactive table.\"\n",
       "              style=\"display:none;\">\n",
       "        \n",
       "  <svg xmlns=\"http://www.w3.org/2000/svg\" height=\"24px\"viewBox=\"0 0 24 24\"\n",
       "       width=\"24px\">\n",
       "    <path d=\"M0 0h24v24H0V0z\" fill=\"none\"/>\n",
       "    <path d=\"M18.56 5.44l.94 2.06.94-2.06 2.06-.94-2.06-.94-.94-2.06-.94 2.06-2.06.94zm-11 1L8.5 8.5l.94-2.06 2.06-.94-2.06-.94L8.5 2.5l-.94 2.06-2.06.94zm10 10l.94 2.06.94-2.06 2.06-.94-2.06-.94-.94-2.06-.94 2.06-2.06.94z\"/><path d=\"M17.41 7.96l-1.37-1.37c-.4-.4-.92-.59-1.43-.59-.52 0-1.04.2-1.43.59L10.3 9.45l-7.72 7.72c-.78.78-.78 2.05 0 2.83L4 21.41c.39.39.9.59 1.41.59.51 0 1.02-.2 1.41-.59l7.78-7.78 2.81-2.81c.8-.78.8-2.07 0-2.86zM5.41 20L4 18.59l7.72-7.72 1.47 1.35L5.41 20z\"/>\n",
       "  </svg>\n",
       "      </button>\n",
       "      \n",
       "  <style>\n",
       "    .colab-df-container {\n",
       "      display:flex;\n",
       "      flex-wrap:wrap;\n",
       "      gap: 12px;\n",
       "    }\n",
       "\n",
       "    .colab-df-convert {\n",
       "      background-color: #E8F0FE;\n",
       "      border: none;\n",
       "      border-radius: 50%;\n",
       "      cursor: pointer;\n",
       "      display: none;\n",
       "      fill: #1967D2;\n",
       "      height: 32px;\n",
       "      padding: 0 0 0 0;\n",
       "      width: 32px;\n",
       "    }\n",
       "\n",
       "    .colab-df-convert:hover {\n",
       "      background-color: #E2EBFA;\n",
       "      box-shadow: 0px 1px 2px rgba(60, 64, 67, 0.3), 0px 1px 3px 1px rgba(60, 64, 67, 0.15);\n",
       "      fill: #174EA6;\n",
       "    }\n",
       "\n",
       "    [theme=dark] .colab-df-convert {\n",
       "      background-color: #3B4455;\n",
       "      fill: #D2E3FC;\n",
       "    }\n",
       "\n",
       "    [theme=dark] .colab-df-convert:hover {\n",
       "      background-color: #434B5C;\n",
       "      box-shadow: 0px 1px 3px 1px rgba(0, 0, 0, 0.15);\n",
       "      filter: drop-shadow(0px 1px 2px rgba(0, 0, 0, 0.3));\n",
       "      fill: #FFFFFF;\n",
       "    }\n",
       "  </style>\n",
       "\n",
       "      <script>\n",
       "        const buttonEl =\n",
       "          document.querySelector('#df-f127e91e-8841-4565-b1a3-e91a25fcb236 button.colab-df-convert');\n",
       "        buttonEl.style.display =\n",
       "          google.colab.kernel.accessAllowed ? 'block' : 'none';\n",
       "\n",
       "        async function convertToInteractive(key) {\n",
       "          const element = document.querySelector('#df-f127e91e-8841-4565-b1a3-e91a25fcb236');\n",
       "          const dataTable =\n",
       "            await google.colab.kernel.invokeFunction('convertToInteractive',\n",
       "                                                     [key], {});\n",
       "          if (!dataTable) return;\n",
       "\n",
       "          const docLinkHtml = 'Like what you see? Visit the ' +\n",
       "            '<a target=\"_blank\" href=https://colab.research.google.com/notebooks/data_table.ipynb>data table notebook</a>'\n",
       "            + ' to learn more about interactive tables.';\n",
       "          element.innerHTML = '';\n",
       "          dataTable['output_type'] = 'display_data';\n",
       "          await google.colab.output.renderOutput(dataTable, element);\n",
       "          const docLink = document.createElement('div');\n",
       "          docLink.innerHTML = docLinkHtml;\n",
       "          element.appendChild(docLink);\n",
       "        }\n",
       "      </script>\n",
       "    </div>\n",
       "  </div>\n",
       "  "
      ],
      "text/plain": [
       "                        folder  num_files  label\n",
       "0         170913-154448-Al 2mm        427      0\n",
       "2         170905-112213-Al 2mm        585      0\n",
       "12  170906-113317-Al 2mm-part1        526      0\n",
       "13        170906-104925-Al 2mm        651      0\n",
       "4   170906-143512-Al 2mm-part2        351      1\n",
       "1         170904-155610-Al 2mm        235      1\n",
       "3   170904-154202-Al 2mm-part1        631      1\n",
       "5   170906-143512-Al 2mm-part1       1212      1\n",
       "6   170906-155007-Al 2mm-part1        451      1\n",
       "10  170906-151724-Al 2mm-part1        402      1\n",
       "11  170906-153326-Al 2mm-part3        154      1\n",
       "7   170904-150144-Al 2mm-part2        330      1\n",
       "8   170906-155007-Al 2mm-part2        399      1\n",
       "9   170904-152301-Al 2mm-part2        234      1"
      ]
     },
     "execution_count": 27,
     "metadata": {},
     "output_type": "execute_result"
    }
   ],
   "source": [
    "test_data_csv"
   ]
  },
  {
   "cell_type": "code",
   "execution_count": 28,
   "metadata": {
    "id": "ahnbWhSaJFLL"
   },
   "outputs": [],
   "source": [
    "test_location_folders='/content/al5083/test/'\n",
    "for i in range(len(class_names)):\n",
    "   copy_to_folder_2classes(i, test_location_folders , test_data_csv  , '/content/all_labeled/')   "
   ]
  },
  {
   "cell_type": "code",
   "execution_count": 53,
   "metadata": {
    "id": "v98k9XykWx3I"
   },
   "outputs": [],
   "source": [
    "test_data_csv.to_csv(\"test_data_csv.csv\")"
   ]
  },
  {
   "cell_type": "markdown",
   "metadata": {
    "id": "CUU3pUI3MLlB"
   },
   "source": [
    "**2 Classes size**"
   ]
  },
  {
   "cell_type": "code",
   "execution_count": 29,
   "metadata": {
    "colab": {
     "base_uri": "https://localhost:8080/"
    },
    "id": "KycRH_S8JR27",
    "outputId": "b1a176ac-0a66-4bb2-bc0e-25657dbd4e0b"
   },
   "outputs": [
    {
     "data": {
      "text/plain": [
       "10947"
      ]
     },
     "execution_count": 29,
     "metadata": {},
     "output_type": "execute_result"
    }
   ],
   "source": [
    "len(os.listdir('/content/all_labeled/0_Good weld'))"
   ]
  },
  {
   "cell_type": "code",
   "execution_count": 30,
   "metadata": {
    "colab": {
     "base_uri": "https://localhost:8080/"
    },
    "id": "hHhVH870JalG",
    "outputId": "0a548e5f-6462-49f5-a4f3-3e3d55fe19b4"
   },
   "outputs": [
    {
     "data": {
      "text/plain": [
       "22307"
      ]
     },
     "execution_count": 30,
     "metadata": {},
     "output_type": "execute_result"
    }
   ],
   "source": [
    "len(os.listdir('/content/all_labeled/1_Defect'))"
   ]
  },
  {
   "cell_type": "markdown",
   "metadata": {
    "id": "7-d1c-V_XQZB"
   },
   "source": [
    "**Train Test Split**"
   ]
  },
  {
   "cell_type": "code",
   "execution_count": 37,
   "metadata": {
    "colab": {
     "base_uri": "https://localhost:8080/"
    },
    "id": "szu33chWJlrT",
    "outputId": "1be0e779-ecd9-4971-e3a0-06fb7dec2dc8"
   },
   "outputs": [
    {
     "name": "stderr",
     "output_type": "stream",
     "text": [
      "Copying files: 33254 files [01:52, 295.80 files/s]\n"
     ]
    }
   ],
   "source": [
    "input_folder = \"/content/all_labeled\" #Enter Input Folder\n",
    "output = \"/content/\" #Enter Output Folder\n",
    "\n",
    "splitfolders.ratio(input_folder, output=output, seed=42, ratio=(0.7,0.15,0.15))"
   ]
  },
  {
   "cell_type": "code",
   "execution_count": 38,
   "metadata": {
    "colab": {
     "base_uri": "https://localhost:8080/"
    },
    "id": "3ZZ-8VWcKeU_",
    "outputId": "eea93348-5020-4325-e9f3-4100d3558300"
   },
   "outputs": [
    {
     "name": "stdout",
     "output_type": "stream",
     "text": [
      "train size good weld 7662\n",
      "train size Defect 15614\n"
     ]
    }
   ],
   "source": [
    "print('train size good weld {}'.format(len(os.listdir('/content/train/0_Good weld'))))\n",
    "print('train size Defect {}'.format(len(os.listdir('/content/train/1_Defect'))))"
   ]
  },
  {
   "cell_type": "code",
   "execution_count": 39,
   "metadata": {
    "colab": {
     "base_uri": "https://localhost:8080/"
    },
    "id": "OT07oanCNjXK",
    "outputId": "4f540e50-cf1c-4209-cfc8-d173e1e01c8a"
   },
   "outputs": [
    {
     "name": "stdout",
     "output_type": "stream",
     "text": [
      "val size good weld 1642\n",
      "val size Defect 3346\n"
     ]
    }
   ],
   "source": [
    "print('val size good weld {}'.format(len(os.listdir('/content/val/0_Good weld'))))\n",
    "print('val size Defect {}'.format(len(os.listdir('/content/val/1_Defect'))))"
   ]
  },
  {
   "cell_type": "code",
   "execution_count": 40,
   "metadata": {
    "colab": {
     "base_uri": "https://localhost:8080/"
    },
    "id": "iaA7vJumNsmp",
    "outputId": "90e5613a-61af-4501-90cd-d76e4616e6d0"
   },
   "outputs": [
    {
     "name": "stdout",
     "output_type": "stream",
     "text": [
      "test size good weld 1643\n",
      "test size Defect 3347\n"
     ]
    }
   ],
   "source": [
    "print('test size good weld {}'.format(len(os.listdir('/content/test/0_Good weld'))))\n",
    "print('test size Defect {}'.format(len(os.listdir('/content/test/1_Defect'))))"
   ]
  },
  {
   "cell_type": "markdown",
   "metadata": {
    "id": "xmNPbIWaN0JD"
   },
   "source": [
    "**Move to Drive**"
   ]
  },
  {
   "cell_type": "code",
   "execution_count": 42,
   "metadata": {
    "colab": {
     "base_uri": "https://localhost:8080/"
    },
    "id": "whhSNybwN4Je",
    "outputId": "efe6aea8-8169-44f3-b596-5683ae00d854"
   },
   "outputs": [
    {
     "name": "stdout",
     "output_type": "stream",
     "text": [
      "Mounted at /content/drive\n"
     ]
    }
   ],
   "source": [
    "from google.colab import drive\n",
    "drive.mount('/content/drive')"
   ]
  },
  {
   "cell_type": "code",
   "execution_count": 43,
   "metadata": {
    "id": "dz4dUXtZOwMI"
   },
   "outputs": [],
   "source": [
    "!mv        '/content/train'           '/content/drive/MyDrive/Defect_inspection/Train'"
   ]
  },
  {
   "cell_type": "code",
   "execution_count": 44,
   "metadata": {
    "id": "kq09S55SQes0"
   },
   "outputs": [],
   "source": [
    "!mv        '/content/val'           '/content/drive/MyDrive/Defect_inspection/Val'\n",
    "!mv        '/content/test'           '/content/drive/MyDrive/Defect_inspection/Test'"
   ]
  },
  {
   "cell_type": "code",
   "execution_count": 54,
   "metadata": {
    "id": "ZDDqLwquW-eu"
   },
   "outputs": [],
   "source": [
    "!mv   '/content/train_data_csv.csv'    '/content/drive/MyDrive/Defect_inspection/Train'\n",
    "!mv   '/content/test_data_csv.csv'     '/content/drive/MyDrive/Defect_inspection/Test'"
   ]
  }
 ],
 "metadata": {
  "colab": {
   "collapsed_sections": [],
   "provenance": []
  },
  "kernelspec": {
   "display_name": "Python 3 (ipykernel)",
   "language": "python",
   "name": "python3"
  },
  "language_info": {
   "codemirror_mode": {
    "name": "ipython",
    "version": 3
   },
   "file_extension": ".py",
   "mimetype": "text/x-python",
   "name": "python",
   "nbconvert_exporter": "python",
   "pygments_lexer": "ipython3",
   "version": "3.9.12"
  }
 },
 "nbformat": 4,
 "nbformat_minor": 1
}
